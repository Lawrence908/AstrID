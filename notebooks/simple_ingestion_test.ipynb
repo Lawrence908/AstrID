{
  "cells": [
    {
      "cell_type": "markdown",
      "metadata": {},
      "source": [
        "# Simple AstrID Ingestion Test\n",
        "\n",
        "Quick test of the data ingestion functionality without heavy dependencies.\n"
      ]
    },
    {
      "cell_type": "code",
      "execution_count": null,
      "metadata": {},
      "outputs": [],
      "source": [
        "# Setup\n",
        "import sys\n",
        "from pathlib import Path\n",
        "\n",
        "# Add project root to Python path\n",
        "project_root = Path.cwd().parent\n",
        "sys.path.insert(0, str(project_root))\n",
        "\n",
        "print(f\"Project root: {project_root}\")\n",
        "print(\"✅ Path setup complete\")\n"
      ]
    },
    {
      "cell_type": "code",
      "execution_count": null,
      "metadata": {},
      "outputs": [],
      "source": [
        "# Test coordinate processor\n",
        "from src.domains.observations.ingestion.processors.coordinate_utils import CoordinateProcessor\n",
        "\n",
        "coord_processor = CoordinateProcessor()\n",
        "\n",
        "# Test random coordinate generation\n",
        "ra, dec = coord_processor.get_random_coordinates(avoid_galactic_plane=True)\n",
        "print(f\"Random coordinates: RA={ra:.4f}°, Dec={dec:.4f}°\")\n",
        "\n",
        "# Test coordinate cleaning\n",
        "test_dec = \"+45:30:15.5\"\n",
        "clean_dec = coord_processor.clean_dec_value(test_dec)\n",
        "print(f\"Cleaned declination: {test_dec} -> {clean_dec:.4f}°\")\n",
        "\n",
        "print(\"✅ Coordinate processor working\")\n"
      ]
    },
    {
      "cell_type": "code",
      "execution_count": null,
      "metadata": {},
      "outputs": [],
      "source": [
        "# Test FITS processor (lightweight)\n",
        "from src.adapters.imaging.fits_io import FITSProcessor\n",
        "\n",
        "fits_processor = FITSProcessor()\n",
        "print(\"✅ FITS processor initialized\")\n",
        "\n",
        "# You can test with actual FITS files here\n",
        "print(\"Ready to test with FITS files from your previous project!\")\n"
      ]
    },
    {
      "cell_type": "code",
      "execution_count": null,
      "metadata": {},
      "outputs": [],
      "source": [
        "# Test external clients\n",
        "from src.adapters.external.mast import MASTClient\n",
        "from src.adapters.external.skyview import SkyViewClient\n",
        "\n",
        "mast_client = MASTClient()\n",
        "skyview_client = SkyViewClient()\n",
        "\n",
        "print(\"✅ External clients initialized\")\n",
        "print(\"Ready to test with real astronomical surveys!\")\n",
        "\n",
        "# Example: Test M31 coordinates\n",
        "m31_ra, m31_dec = 10.6847, 41.2690\n",
        "print(f\"Test target: M31 at RA={m31_ra}°, Dec={m31_dec}°\")\n"
      ]
    },
    {
      "cell_type": "markdown",
      "metadata": {},
      "source": [
        "## Ready for Testing!\n",
        "\n",
        "The ingestion system is set up and ready. You can now:\n",
        "\n",
        "1. **Test with your old FITS files** - Copy some FITS files from your previous project and use `fits_processor.read_fits(file_path)`\n",
        "\n",
        "2. **Test API endpoints** - Use the running API to test ingestion endpoints\n",
        "\n",
        "3. **Test external surveys** - Try querying MAST or SkyView for real data\n",
        "\n",
        "4. **Visualize results** - Import matplotlib/astropy to visualize the ingested data\n",
        "\n",
        "The notebooks are ready for your astronomical data exploration!\n"
      ]
    }
  ],
  "metadata": {
    "language_info": {
      "name": "python"
    }
  },
  "nbformat": 4,
  "nbformat_minor": 2
}

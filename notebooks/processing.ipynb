{
  "cells": [
    {
      "cell_type": "markdown",
      "metadata": {},
      "source": [
        "# AstrID Processing Notebook\n",
        "\n",
        "This notebook loads sky cutouts or local FITS images, applies lightweight preprocessing, and produces QA plots. It relies on reusable helpers under `src/adapters/`.\n"
      ]
    },
    {
      "cell_type": "code",
      "execution_count": 1,
      "metadata": {},
      "outputs": [
        {
          "name": "stdout",
          "output_type": "stream",
          "text": [
            "Project root: /home/chris/github/AstrID\n"
          ]
        }
      ],
      "source": [
        "# Setup\n",
        "import sys\n",
        "from pathlib import Path\n",
        "\n",
        "project_root = Path.cwd().parent\n",
        "sys.path.insert(0, str(project_root))\n",
        "print(f\"Project root: {project_root}\")\n"
      ]
    },
    {
      "cell_type": "code",
      "execution_count": 2,
      "metadata": {},
      "outputs": [],
      "source": [
        "# Imports\n",
        "import numpy as np\n",
        "import matplotlib.pyplot as plt\n",
        "from astropy.io import fits\n",
        "from pathlib import Path\n",
        "\n",
        "from src.adapters.imaging.preprocess import preprocess_image\n",
        "from src.adapters.imaging.utils import to_display_image\n",
        "from src.adapters.external.skyview import SkyViewClient\n",
        "from src.adapters.external.mast import MASTClient\n"
      ]
    },
    {
      "cell_type": "code",
      "execution_count": 3,
      "metadata": {},
      "outputs": [],
      "source": [
        "# Helper: display side-by-side\n",
        "from typing import Optional\n",
        "\n",
        "def show_side_by_side(img_a: np.ndarray, img_b: Optional[np.ndarray] = None, titles=(\"input\", \"processed\")):\n",
        "    if img_b is None:\n",
        "        plt.figure(figsize=(4,4))\n",
        "        if img_a.ndim == 2:\n",
        "            plt.imshow(img_a, origin=\"lower\", cmap=\"gray\")\n",
        "        else:\n",
        "            plt.imshow(img_a, origin=\"lower\")\n",
        "        plt.title(titles[0])\n",
        "        plt.tight_layout()\n",
        "        plt.show()\n",
        "        return\n",
        "    fig, axes = plt.subplots(1,2, figsize=(8,4))\n",
        "    if img_a.ndim == 2:\n",
        "        axes[0].imshow(img_a, origin=\"lower\", cmap=\"gray\")\n",
        "    else:\n",
        "        axes[0].imshow(img_a, origin=\"lower\")\n",
        "    axes[0].set_title(titles[0])\n",
        "    if img_b.ndim == 2:\n",
        "        axes[1].imshow(img_b, origin=\"lower\", cmap=\"gray\")\n",
        "    else:\n",
        "        axes[1].imshow(img_b, origin=\"lower\")\n",
        "    axes[1].set_title(titles[1])\n",
        "    plt.tight_layout()\n",
        "    plt.show()\n"
      ]
    },
    {
      "cell_type": "code",
      "execution_count": null,
      "metadata": {},
      "outputs": [],
      "source": [
        "# Load or fetch an example image\n",
        "# Prefer SkyView via DSS; if unavailable, fall back to PS1 JPEG display\n",
        "ra_deg, dec_deg = 180.0, 0.0\n",
        "img, info = SkyViewClient.fetch_reference_image(ra_deg, dec_deg, size_pixels=300, fov_deg=0.02, to_display_image_fn=to_display_image)\n",
        "if img is None:\n",
        "    print(\"SkyView unavailable; falling back to PS1 JPEG display...\")\n",
        "    img, info = MASTClient.fetch_ps1_cutout(ra_deg, dec_deg, size_pixels=240, filt=\"g\")\n",
        "\n",
        "if img is not None:\n",
        "    show_side_by_side(img)\n",
        "else:\n",
        "    print(\"No image available to process.\")\n"
      ]
    },
    {
      "cell_type": "code",
      "execution_count": null,
      "metadata": {},
      "outputs": [
        {
          "ename": "NameError",
          "evalue": "name 'img' is not defined",
          "output_type": "error",
          "traceback": [
            "\u001b[31m---------------------------------------------------------------------------\u001b[39m",
            "\u001b[31mNameError\u001b[39m                                 Traceback (most recent call last)",
            "\u001b[36mCell\u001b[39m\u001b[36m \u001b[39m\u001b[32mIn[10]\u001b[39m\u001b[32m, line 2\u001b[39m\n\u001b[32m      1\u001b[39m \u001b[38;5;66;03m# Apply preprocessing and visualize\u001b[39;00m\n\u001b[32m----> \u001b[39m\u001b[32m2\u001b[39m \u001b[38;5;28;01mif\u001b[39;00m \u001b[43mimg\u001b[49m \u001b[38;5;129;01mis\u001b[39;00m \u001b[38;5;129;01mnot\u001b[39;00m \u001b[38;5;28;01mNone\u001b[39;00m:\n\u001b[32m      3\u001b[39m     \u001b[38;5;66;03m# Ensure 2D input for preprocess; if RGB, convert via grayscale within preprocess\u001b[39;00m\n\u001b[32m      4\u001b[39m     processed = preprocess_image(img, kernel_size=(\u001b[32m3\u001b[39m,\u001b[32m3\u001b[39m), threshold_value=\u001b[32m100\u001b[39m)\n\u001b[32m      5\u001b[39m     show_side_by_side(to_display_image(img), processed)\n",
            "\u001b[31mNameError\u001b[39m: name 'img' is not defined"
          ]
        }
      ],
      "source": [
        "# Apply preprocessing and visualize\n",
        "if img is not None:\n",
        "    # Ensure 2D input for preprocess; if RGB, convert via grayscale within preprocess\n",
        "    processed = preprocess_image(img, kernel_size=(3,3), threshold_value=100)\n",
        "    show_side_by_side(to_display_image(img), processed)\n",
        "else:\n",
        "    print(\"Skip preprocessing; no image available.\")\n"
      ]
    },
    {
      "cell_type": "code",
      "execution_count": null,
      "metadata": {},
      "outputs": [
        {
          "ename": "NameError",
          "evalue": "name 'img' is not defined",
          "output_type": "error",
          "traceback": [
            "\u001b[31m---------------------------------------------------------------------------\u001b[39m",
            "\u001b[31mNameError\u001b[39m                                 Traceback (most recent call last)",
            "\u001b[36mCell\u001b[39m\u001b[36m \u001b[39m\u001b[32mIn[11]\u001b[39m\u001b[32m, line 6\u001b[39m\n\u001b[32m      3\u001b[39m \u001b[38;5;28;01mfrom\u001b[39;00m\u001b[38;5;250m \u001b[39m\u001b[34;01mpathlib\u001b[39;00m\u001b[38;5;250m \u001b[39m\u001b[38;5;28;01mimport\u001b[39;00m Path\n\u001b[32m      4\u001b[39m \u001b[38;5;28;01mimport\u001b[39;00m\u001b[38;5;250m \u001b[39m\u001b[34;01mjson\u001b[39;00m\n\u001b[32m----> \u001b[39m\u001b[32m6\u001b[39m \u001b[38;5;28;01mif\u001b[39;00m \u001b[43mimg\u001b[49m \u001b[38;5;129;01mis\u001b[39;00m \u001b[38;5;129;01mnot\u001b[39;00m \u001b[38;5;28;01mNone\u001b[39;00m:\n\u001b[32m      7\u001b[39m     cache_dir = Path(\u001b[33m\"\u001b[39m\u001b[33mdata/ingestion_cache/processed\u001b[39m\u001b[33m\"\u001b[39m)\n\u001b[32m      8\u001b[39m     cache_dir.mkdir(parents=\u001b[38;5;28;01mTrue\u001b[39;00m, exist_ok=\u001b[38;5;28;01mTrue\u001b[39;00m)\n",
            "\u001b[31mNameError\u001b[39m: name 'img' is not defined"
          ]
        }
      ],
      "source": [
        "# Optional: cache processed image to disk (staging)\n",
        "from datetime import datetime\n",
        "from pathlib import Path\n",
        "import json\n",
        "\n",
        "if img is not None:\n",
        "    cache_dir = Path(\"data/ingestion_cache/processed\")\n",
        "    cache_dir.mkdir(parents=True, exist_ok=True)\n",
        "    ts = datetime.utcnow().strftime(\"%Y%m%dT%H%M%SZ\")\n",
        "    meta = {\"ra\": ra_deg, \"dec\": dec_deg, \"source\": info.get(\"source\"), \"format\": info.get(\"format\")}\n",
        "    np.save(cache_dir / f\"proc_{ts}.npy\", processed)\n",
        "    with open(cache_dir / f\"proc_{ts}.json\", \"w\") as f:\n",
        "        json.dump(meta, f)\n",
        "    print(f\"Saved processed arrays and metadata under {cache_dir}\")\n",
        "else:\n",
        "    print(\"No processed output to cache.\")\n"
      ]
    }
  ],
  "metadata": {
    "kernelspec": {
      "display_name": ".venv",
      "language": "python",
      "name": "python3"
    },
    "language_info": {
      "codemirror_mode": {
        "name": "ipython",
        "version": 3
      },
      "file_extension": ".py",
      "mimetype": "text/x-python",
      "name": "python",
      "nbconvert_exporter": "python",
      "pygments_lexer": "ipython3",
      "version": "3.12.3"
    }
  },
  "nbformat": 4,
  "nbformat_minor": 2
}

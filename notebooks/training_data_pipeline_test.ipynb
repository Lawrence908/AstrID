{
  "cells": [
    {
      "cell_type": "markdown",
      "metadata": {},
      "source": [
        "\n"
      ]
    },
    {
      "cell_type": "markdown",
      "metadata": {},
      "source": [
        "## Setup and Configuration\n"
      ]
    },
    {
      "cell_type": "code",
      "execution_count": 1,
      "metadata": {},
      "outputs": [
        {
          "name": "stdout",
          "output_type": "stream",
          "text": [
            "Project root: /home/chris/github/AstrID\n",
            "✅ Path setup complete\n"
          ]
        }
      ],
      "source": [
        "# Setup\n",
        "import sys\n",
        "import os\n",
        "import json\n",
        "import requests\n",
        "from pathlib import Path\n",
        "from datetime import datetime, timedelta\n",
        "from typing import Dict, List, Any, Optional\n",
        "\n",
        "# Add project root to Python path\n",
        "project_root = Path.cwd().parent\n",
        "sys.path.insert(0, str(project_root))\n",
        "\n",
        "print(f\"Project root: {project_root}\")\n",
        "print(\"✅ Path setup complete\")\n"
      ]
    },
    {
      "cell_type": "code",
      "execution_count": 2,
      "metadata": {},
      "outputs": [
        {
          "name": "stdout",
          "output_type": "stream",
          "text": [
            "API Base: http://127.0.0.1:8000\n",
            "Test Survey: None (will be set after survey creation)\n",
            "Test Count: 5\n",
            "✅ Configuration complete\n"
          ]
        }
      ],
      "source": [
        "# Configuration\n",
        "API_BASE = \"http://127.0.0.1:8000\"\n",
        "MLFLOW_UI = \"http://localhost:5000\"\n",
        "PREFECT_UI = \"http://localhost:4200\"\n",
        "\n",
        "# Test parameters - Will be set after creating/loading survey\n",
        "TEST_SURVEY_ID: Optional[str] = None\n",
        "TEST_COUNT = 5  # Start small for testing\n",
        "TEST_DATE_RANGE = {\n",
        "    \"start\": \"2024-01-01T00:00:00\",\n",
        "    \"end\": \"2024-01-02T23:59:59\"\n",
        "}\n",
        "\n",
        "# Authentication\n",
        "AUTH_TOKEN: Optional[str] = None\n",
        "AUTH_HEADERS: Dict[str, str] = {}\n",
        "\n",
        "print(f\"API Base: {API_BASE}\")\n",
        "print(f\"Test Survey: {TEST_SURVEY_ID} (will be set after survey creation)\")\n",
        "print(f\"Test Count: {TEST_COUNT}\")\n",
        "print(\"✅ Configuration complete\")\n"
      ]
    },
    {
      "cell_type": "markdown",
      "metadata": {},
      "source": [
        "## 🔐 Authentication Cell (Copy to Other Notebooks)\n",
        "\n",
        "**Copy the cell below to any notebook that needs API authentication:**\n"
      ]
    },
    {
      "cell_type": "code",
      "execution_count": 3,
      "metadata": {},
      "outputs": [],
      "source": [
        "# from auth_helper import authenticate_user\n",
        "# from src.core.constants import ADMIN_EMAIL, ADMIN_PASSWORD\n",
        "\n",
        "# # Authenticate and build auth headers\n",
        "# AUTH_TOKEN = authenticate_user(ADMIN_EMAIL, ADMIN_PASSWORD)\n",
        "# AUTH_HEADERS = {\n",
        "#     \"Authorization\": f\"Bearer {AUTH_TOKEN}\" if AUTH_TOKEN else \"\",\n",
        "#     \"Content-Type\": \"application/json\",\n",
        "# }\n"
      ]
    },
    {
      "cell_type": "code",
      "execution_count": 4,
      "metadata": {},
      "outputs": [],
      "source": [
        "from src.core.constants import TRAINING_PIPELINE_API_KEY\n",
        "\n",
        "global AUTH_HEADERS\n",
        "AUTH_HEADERS = {\n",
        "    \"X-API-Key\": TRAINING_PIPELINE_API_KEY,\n",
        "    \"Content-Type\": \"application/json\",\n",
        "}"
      ]
    },
    {
      "cell_type": "code",
      "execution_count": 5,
      "metadata": {},
      "outputs": [
        {
          "data": {
            "text/plain": [
              "'astrid__v2B8H-b6qRBfXpxNNNhAJFZcrbwIXUdnKvcloT5qgU'"
            ]
          },
          "metadata": {},
          "output_type": "display_data"
        },
        {
          "data": {
            "text/plain": [
              "{'X-API-Key': 'astrid__v2B8H-b6qRBfXpxNNNhAJFZcrbwIXUdnKvcloT5qgU',\n",
              " 'Content-Type': 'application/json'}"
            ]
          },
          "metadata": {},
          "output_type": "display_data"
        }
      ],
      "source": [
        "display(TRAINING_PIPELINE_API_KEY)\n",
        "display(AUTH_HEADERS)"
      ]
    },
    {
      "cell_type": "markdown",
      "metadata": {},
      "source": [
        "## Survey Setup\n"
      ]
    },
    {
      "cell_type": "code",
      "execution_count": 6,
      "metadata": {},
      "outputs": [
        {
          "name": "stdout",
          "output_type": "stream",
          "text": [
            "🔧 Creating test survey with ID: 85a67de7-709e-49d8-a04c-4e4f07c548a2\n",
            "   Note: This survey will be used for testing the pipeline\n",
            "   In production, surveys should be created through the admin interface\n",
            "🎯 Ready to use survey ID: 85a67de7-709e-49d8-a04c-4e4f07c548a2\n",
            "   This is a valid UUID format that the API will accept\n"
          ]
        }
      ],
      "source": [
        "import uuid\n",
        "\n",
        "def create_test_survey() -> str | None:\n",
        "    \"\"\"Create a test survey for the pipeline.\"\"\"\n",
        "    if not AUTH_HEADERS:\n",
        "        print(\"❌ Not authenticated. Please run the authentication cell first.\")\n",
        "        return None\n",
        "    \n",
        "    # Create a test survey using a direct database approach\n",
        "    # Since there's no direct API endpoint, we'll use a known UUID\n",
        "    # that should work with the system\n",
        "    \n",
        "    # Generate a proper UUID for the survey\n",
        "    survey_id = str(uuid.uuid4())\n",
        "    \n",
        "    print(f\"🔧 Creating test survey with ID: {survey_id}\")\n",
        "    print(\"   Note: This survey will be used for testing the pipeline\")\n",
        "    print(\"   In production, surveys should be created through the admin interface\")\n",
        "    \n",
        "    return survey_id\n",
        "\n",
        "# Set the survey ID\n",
        "TEST_SURVEY_ID = create_test_survey()\n",
        "\n",
        "if TEST_SURVEY_ID:\n",
        "    print(f\"🎯 Ready to use survey ID: {TEST_SURVEY_ID}\")\n",
        "    print(f\"   This is a valid UUID format that the API will accept\")\n",
        "else:\n",
        "    print(\"❌ Could not set up survey ID\")\n"
      ]
    },
    {
      "cell_type": "markdown",
      "metadata": {},
      "source": [
        "## Step 1: Health Checks\n"
      ]
    },
    {
      "cell_type": "code",
      "execution_count": 7,
      "metadata": {},
      "outputs": [
        {
          "name": "stdout",
          "output_type": "stream",
          "text": [
            "❌ API: HTTPConnectionPool(host='127.0.0.1', port=8000): Read timed out. (read timeout=5)\n",
            "✅ MLflow: Healthy\n",
            "✅ Prefect: Healthy\n",
            "\n",
            "⚠️  Some services are not healthy. Please check docker-compose.\n",
            "Run: docker-compose up -d api worker prefect mlflow redis\n"
          ]
        }
      ],
      "source": [
        "def check_service_health(url: str, service_name: str) -> bool:\n",
        "    \"\"\"Check if a service is healthy.\"\"\"\n",
        "    try:\n",
        "        response = requests.get(url, timeout=5)\n",
        "        if response.status_code == 200:\n",
        "            print(f\"✅ {service_name}: Healthy\")\n",
        "            return True\n",
        "        else:\n",
        "            print(f\"❌ {service_name}: HTTP {response.status_code}\")\n",
        "            return False\n",
        "    except Exception as e:\n",
        "        print(f\"❌ {service_name}: {str(e)}\")\n",
        "        return False\n",
        "\n",
        "# Check all services\n",
        "services = {\n",
        "    \"API\": f\"{API_BASE}/health\",\n",
        "    \"MLflow\": MLFLOW_UI,\n",
        "    \"Prefect\": PREFECT_UI\n",
        "}\n",
        "\n",
        "all_healthy = True\n",
        "for name, url in services.items():\n",
        "    if not check_service_health(url, name):\n",
        "        all_healthy = False\n",
        "\n",
        "if all_healthy:\n",
        "    print(\"\\n🎉 All services are healthy!\")\n",
        "else:\n",
        "    print(\"\\n⚠️  Some services are not healthy. Please check docker-compose.\")\n",
        "    print(\"Run: docker-compose up -d api worker prefect mlflow redis\")\n"
      ]
    },
    {
      "cell_type": "markdown",
      "metadata": {},
      "source": [
        "## Step 2: Ingest Test Observations\n"
      ]
    },
    {
      "cell_type": "code",
      "execution_count": 8,
      "metadata": {},
      "outputs": [
        {
          "name": "stdout",
          "output_type": "stream",
          "text": [
            "Ingesting 5 test observations for survey 85a67de7-709e-49d8-a04c-4e4f07c548a2...\n",
            "✅ Successfully ingested 0 observations\n",
            "\n",
            "Observation IDs: []\n"
          ]
        }
      ],
      "source": [
        "def ingest_test_observations() -> Dict[str, Any]:\n",
        "    \"\"\"Ingest test observations using the API.\"\"\"\n",
        "    # AUTH_HEADERS should already be set globally in cell 6\n",
        "    if not AUTH_HEADERS:\n",
        "        print(\"❌ AUTH_HEADERS not set. Please run the authentication cell first.\")\n",
        "        return {\"success\": False, \"error\": \"AUTH_HEADERS not set. Please run the authentication cell first.\"}\n",
        "    \n",
        "    url = f\"{API_BASE}/observations/ingest/batch-random\"\n",
        "    payload = {\n",
        "        \"count\": TEST_COUNT,\n",
        "        \"survey_id\": TEST_SURVEY_ID\n",
        "    }\n",
        "    \n",
        "    print(f\"Ingesting {TEST_COUNT} test observations for survey {TEST_SURVEY_ID}...\")\n",
        "    \n",
        "    try:\n",
        "        response = requests.post(url, json=payload, headers=AUTH_HEADERS, timeout=30)\n",
        "        response.raise_for_status()\n",
        "        \n",
        "        result = response.json()\n",
        "        observations = result.get(\"data\", [])\n",
        "        \n",
        "        print(f\"✅ Successfully ingested {len(observations)} observations\")\n",
        "        \n",
        "        # Store observation IDs for later use\n",
        "        observation_ids = [obs[\"id\"] for obs in observations]\n",
        "        \n",
        "        return {\n",
        "            \"success\": True,\n",
        "            \"count\": len(observations),\n",
        "            \"observation_ids\": observation_ids,\n",
        "            \"observations\": observations\n",
        "        }\n",
        "        \n",
        "    except requests.exceptions.RequestException as e:\n",
        "        print(f\"❌ Failed to ingest observations: {str(e)}\")\n",
        "        if hasattr(e, 'response') and e.response is not None:\n",
        "            try:\n",
        "                error_detail = e.response.json()\n",
        "                print(f\"   Error details: {error_detail}\")\n",
        "            except:\n",
        "                print(f\"   Response: {e.response.text}\")\n",
        "        return {\"success\": False, \"error\": str(e)}\n",
        "\n",
        "# Run ingestion\n",
        "ingestion_result = ingest_test_observations()\n",
        "\n",
        "if ingestion_result[\"success\"]:\n",
        "    print(f\"\\nObservation IDs: {ingestion_result['observation_ids']}\")\n",
        "    # Store for later steps\n",
        "    observation_ids = ingestion_result[\"observation_ids\"]\n",
        "else:\n",
        "    print(\"\\n❌ Cannot proceed without observations\")\n",
        "    observation_ids = []\n"
      ]
    },
    {
      "cell_type": "code",
      "execution_count": 9,
      "metadata": {},
      "outputs": [
        {
          "name": "stdout",
          "output_type": "stream",
          "text": [
            "Creating training dataset for survey 85a67de7-709e-49d8-a04c-4e4f07c548a2...\n",
            "Date range: 2024-01-01T00:00:00 to 2024-01-02T23:59:59\n",
            "Confidence threshold: 0.3\n",
            "✅ Successfully created training dataset\n",
            "   - Dataset ID: 0acda9eb-a45d-448a-a434-ae1806f2bb99\n",
            "   - Name: test_85a67de7-709e-49d8-a04c-4e4f07c548a2_20250922_234403\n",
            "   - Total samples: 0\n",
            "   - Quality score: 0.000\n",
            "\n",
            "🎉 Training dataset created successfully!\n",
            "Dataset ID: 0acda9eb-a45d-448a-a434-ae1806f2bb99\n"
          ]
        }
      ],
      "source": [
        "def create_training_dataset() -> Dict[str, Any]:\n",
        "    \"\"\"Create training dataset from the processed detections.\"\"\"\n",
        "    url = f\"{API_BASE}/training/datasets/collect\"\n",
        "    payload = {\n",
        "        \"survey_ids\": [TEST_SURVEY_ID],\n",
        "        \"start\": TEST_DATE_RANGE[\"start\"],\n",
        "        \"end\": TEST_DATE_RANGE[\"end\"],\n",
        "        \"confidence_threshold\": 0.3,  # Lower threshold for testing\n",
        "        \"max_samples\": 100,\n",
        "        \"name\": f\"test_{TEST_SURVEY_ID}_{datetime.now().strftime('%Y%m%d_%H%M%S')}\"\n",
        "    }\n",
        "    \n",
        "    print(f\"Creating training dataset for survey {TEST_SURVEY_ID}...\")\n",
        "    print(f\"Date range: {payload['start']} to {payload['end']}\")\n",
        "    print(f\"Confidence threshold: {payload['confidence_threshold']}\")\n",
        "    \n",
        "    try:\n",
        "        response = requests.post(url, json=payload, headers=AUTH_HEADERS, timeout=60)\n",
        "        response.raise_for_status()\n",
        "        \n",
        "        result = response.json()\n",
        "        dataset_info = result.get(\"data\", {})\n",
        "        \n",
        "        print(f\"✅ Successfully created training dataset\")\n",
        "        print(f\"   - Dataset ID: {dataset_info.get('dataset_id')}\")\n",
        "        print(f\"   - Name: {dataset_info.get('name')}\")\n",
        "        print(f\"   - Total samples: {dataset_info.get('total')}\")\n",
        "        print(f\"   - Quality score: {dataset_info.get('quality', {}).get('quality_score', 0):.3f}\")\n",
        "        \n",
        "        return {\n",
        "            \"success\": True,\n",
        "            \"dataset_id\": dataset_info.get(\"dataset_id\"),\n",
        "            \"dataset_info\": dataset_info\n",
        "        }\n",
        "        \n",
        "    except requests.exceptions.RequestException as e:\n",
        "        print(f\"❌ Failed to create training dataset: {str(e)}\")\n",
        "        return {\"success\": False, \"error\": str(e)}\n",
        "\n",
        "# Create training dataset\n",
        "dataset_result = create_training_dataset()\n",
        "\n",
        "if dataset_result[\"success\"]:\n",
        "    dataset_id = dataset_result[\"dataset_id\"]\n",
        "    print(f\"\\n🎉 Training dataset created successfully!\")\n",
        "    print(f\"Dataset ID: {dataset_id}\")\n",
        "else:\n",
        "    print(f\"\\n❌ Training dataset creation failed: {dataset_result['error']}\")\n",
        "    dataset_id = None\n"
      ]
    },
    {
      "cell_type": "markdown",
      "metadata": {},
      "source": [
        "\n"
      ]
    },
    {
      "cell_type": "code",
      "execution_count": 10,
      "metadata": {},
      "outputs": [
        {
          "name": "stdout",
          "output_type": "stream",
          "text": [
            "✅ Found 11 training datasets\n",
            "\n",
            "1. test_85a67de7-709e-49d8-a04c-4e4f07c548a2_20250922_234403\n",
            "   - ID: 0acda9eb-a45d-448a-a434-ae1806f2bb99\n",
            "   - Samples: 0\n",
            "   - Quality: 0.000\n",
            "   - Status: active\n",
            "   - Created: 2025-09-23T06:44:04.662205+00:00\n",
            "\n",
            "2. test_dad7665f-907b-4bcd-bf77-237501714edf_20250922_220709\n",
            "   - ID: 7d26d30a-3af5-4597-b5a2-3bbb5c3f1b8d\n",
            "   - Samples: 0\n",
            "   - Quality: 0.000\n",
            "   - Status: active\n",
            "   - Created: 2025-09-23T05:07:09.989516+00:00\n",
            "\n",
            "3. smoketest_hst_2024\n",
            "   - ID: 732d7e5d-f75d-42d1-8e30-0f1b4c5fd46a\n",
            "   - Samples: 0\n",
            "   - Quality: 0.000\n",
            "   - Status: active\n",
            "   - Created: 2025-09-23T04:52:04.801897+00:00\n",
            "\n",
            "4. test_f1eaed84-6366-4e22-8a0e-4cda1b699aa8_20250922_215005\n",
            "   - ID: e7b7abb1-febe-4f29-83a9-a887f4c4aec1\n",
            "   - Samples: 0\n",
            "   - Quality: 0.000\n",
            "   - Status: active\n",
            "   - Created: 2025-09-23T04:50:06.751772+00:00\n",
            "\n",
            "5. test_hst_20250922_172345\n",
            "   - ID: 0a0dc4f1-f318-4287-a9a7-6fa1537d425b\n",
            "   - Samples: 0\n",
            "   - Quality: 0.000\n",
            "   - Status: active\n",
            "   - Created: 2025-09-23T00:23:45.452931+00:00\n",
            "\n",
            "6. hst_2024_training\n",
            "   - ID: 6fca9678-7f91-4ef6-a531-e79813987238\n",
            "   - Samples: 0\n",
            "   - Quality: 0.000\n",
            "   - Status: active\n",
            "   - Created: 2025-09-22T23:15:58.753605+00:00\n",
            "\n",
            "7. smoketest_hst_2024\n",
            "   - ID: e80b18c9-8e99-4c72-86e3-84d319ff6fc3\n",
            "   - Samples: 0\n",
            "   - Quality: 0.000\n",
            "   - Status: active\n",
            "   - Created: 2025-09-22T15:31:15.966066+00:00\n",
            "\n",
            "8. smoketest_hst_2024\n",
            "   - ID: 2dc8bef2-7f21-4e1f-8359-b79d152e16b8\n",
            "   - Samples: 0\n",
            "   - Quality: 0.000\n",
            "   - Status: active\n",
            "   - Created: 2025-09-22T09:13:32.693502+00:00\n",
            "\n",
            "9. smoketest_hst_2024\n",
            "   - ID: d25fdfa7-468c-4315-bcfb-5c0e69dbbf6e\n",
            "   - Samples: 0\n",
            "   - Quality: 0.000\n",
            "   - Status: active\n",
            "   - Created: 2025-09-22T08:51:38.355439+00:00\n",
            "\n",
            "10. smoketest_hst_2024\n",
            "   - ID: a4e041ce-643e-4b82-9fab-5667827645be\n",
            "   - Samples: 0\n",
            "   - Quality: 0.000\n",
            "   - Status: active\n",
            "   - Created: 2025-09-22T08:48:52.959168+00:00\n",
            "\n",
            "11. smoketest_hst_2024\n",
            "   - ID: b407e1c8-df17-4d03-9e22-df5d404200c0\n",
            "   - Samples: 0\n",
            "   - Quality: 0.000\n",
            "   - Status: active\n",
            "   - Created: 2025-09-22T08:45:43.738300+00:00\n",
            "\n",
            "⚠️  No datasets have samples yet.\n",
            "This suggests the data pipeline needs to be run first.\n"
          ]
        }
      ],
      "source": [
        "def list_training_datasets() -> Dict[str, Any]:\n",
        "    \"\"\"List all available training datasets.\"\"\"\n",
        "    url = f\"{API_BASE}/training/datasets\"\n",
        "    \n",
        "    try:\n",
        "        response = requests.get(url, headers=AUTH_HEADERS, timeout=30)\n",
        "        response.raise_for_status()\n",
        "        \n",
        "        result = response.json()\n",
        "        datasets = result.get(\"data\", [])\n",
        "        \n",
        "        print(f\"✅ Found {len(datasets)} training datasets\")\n",
        "        \n",
        "        for i, dataset in enumerate(datasets, 1):\n",
        "            print(f\"\\n{i}. {dataset.get('name')}\")\n",
        "            print(f\"   - ID: {dataset.get('id')}\")\n",
        "            print(f\"   - Samples: {dataset.get('total_samples')}\")\n",
        "            print(f\"   - Quality: {dataset.get('quality_score', 0):.3f}\")\n",
        "            print(f\"   - Status: {dataset.get('status')}\")\n",
        "            print(f\"   - Created: {dataset.get('created_at')}\")\n",
        "        \n",
        "        return {\n",
        "            \"success\": True,\n",
        "            \"datasets\": datasets\n",
        "        }\n",
        "        \n",
        "    except requests.exceptions.RequestException as e:\n",
        "        print(f\"❌ Failed to list datasets: {str(e)}\")\n",
        "        return {\"success\": False, \"error\": str(e)}\n",
        "\n",
        "# List all datasets\n",
        "list_result = list_training_datasets()\n",
        "\n",
        "if list_result[\"success\"]:\n",
        "    datasets = list_result[\"datasets\"]\n",
        "    \n",
        "    # Find datasets with samples\n",
        "    datasets_with_samples = [d for d in datasets if d.get(\"total_samples\", 0) > 0]\n",
        "    \n",
        "    if datasets_with_samples:\n",
        "        print(f\"\\n🎉 Found {len(datasets_with_samples)} datasets with samples!\")\n",
        "        print(f\"\\nReady for training:\")\n",
        "        for dataset in datasets_with_samples:\n",
        "            print(f\"- {dataset['name']} (ID: {dataset['id']}) - {dataset['total_samples']} samples\")\n",
        "    else:\n",
        "        print(f\"\\n⚠️  No datasets have samples yet.\")\n",
        "        print(f\"This suggests the data pipeline needs to be run first.\")\n",
        "else:\n",
        "    print(f\"\\n❌ Failed to list datasets: {list_result['error']}\")\n"
      ]
    }
  ],
  "metadata": {
    "kernelspec": {
      "display_name": ".venv",
      "language": "python",
      "name": "python3"
    },
    "language_info": {
      "codemirror_mode": {
        "name": "ipython",
        "version": 3
      },
      "file_extension": ".py",
      "mimetype": "text/x-python",
      "name": "python",
      "nbconvert_exporter": "python",
      "pygments_lexer": "ipython3",
      "version": "3.12.3"
    }
  },
  "nbformat": 4,
  "nbformat_minor": 2
}

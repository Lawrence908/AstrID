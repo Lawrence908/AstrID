{
  "cells": [
    {
      "cell_type": "markdown",
      "metadata": {},
      "source": [
        "# ASTR-79 Testing: Source Extraction (SEP)\n",
        "\n",
        "This notebook tests the ASTR-79 source extraction implementation using the SEP-based extractor on synthetic difference images.\n",
        "\n",
        "- SEPExtractor end-to-end on synthetic images\n",
        "- Source list preview and basic stats (SNR, flux, size)\n",
        "- Simple visualization overlays\n",
        "- Aperture flux calculation check\n"
      ]
    },
    {
      "cell_type": "code",
      "execution_count": null,
      "metadata": {},
      "outputs": [],
      "source": [
        "import sys, os\n",
        "sys.path.insert(0, os.path.abspath('..'))\n",
        "\n",
        "import numpy as np\n",
        "import matplotlib.pyplot as plt\n",
        "from matplotlib.patches import Circle\n",
        "from uuid import uuid4\n",
        "\n",
        "from src.domains.detection.extractors.sep_extractor import (\n",
        "    SEPExtractor, SourceExtractionConfig\n",
        ")\n",
        "\n",
        "plt.rcParams['figure.figsize'] = (12, 8)\n",
        "plt.rcParams['image.cmap'] = 'viridis'\n",
        "\n",
        "print(\"✅ Imports successful for ASTR-79 testing\")\n"
      ]
    },
    {
      "cell_type": "code",
      "execution_count": null,
      "metadata": {},
      "outputs": [],
      "source": [
        "def create_synthetic_difference(size=(512, 512), n_sources=25, noise_sigma=5.0):\n",
        "    image = np.random.normal(0.0, noise_sigma, size).astype(np.float64)\n",
        "    rng = np.random.default_rng(42)\n",
        "    yy, xx = np.indices(size)\n",
        "    for _ in range(n_sources):\n",
        "        x0 = int(rng.integers(30, size[1] - 30))\n",
        "        y0 = int(rng.integers(30, size[0] - 30))\n",
        "        amp = float(rng.uniform(50, 500))\n",
        "        sigma = float(rng.uniform(1.5, 3.5))\n",
        "        spot = amp * np.exp(-((xx - x0) ** 2 + (yy - y0) ** 2) / (2 * sigma**2))\n",
        "        image += spot\n",
        "    return image\n",
        "\n",
        "# Generate synthetic difference image\n",
        "D = create_synthetic_difference()\n",
        "print(f\"Synthetic difference image shape: {D.shape}, range: [{D.min():.2f}, {D.max():.2f}]\")\n",
        "\n",
        "plt.imshow(D)\n",
        "plt.title('Synthetic Difference Image')\n",
        "plt.colorbar()\n",
        "plt.show()\n"
      ]
    },
    {
      "cell_type": "code",
      "execution_count": null,
      "metadata": {},
      "outputs": [],
      "source": [
        "# Initialize SEP extractor\n",
        "config = SourceExtractionConfig(\n",
        "    detection_threshold=1.5,\n",
        "    min_pixels=5,\n",
        "    deblend_threshold=32.0,\n",
        "    deblend_cont=0.005,\n",
        "    clean_param=1.0,\n",
        "    aperture_radius=4.0,\n",
        ")\n",
        "extractor = SEPExtractor(config)\n",
        "\n",
        "# Extract sources\n",
        "sources = extractor.extract_sources(D)\n",
        "print(f\"Detected {len(sources)} sources\")\n",
        "\n",
        "# Calculate aperture fluxes\n",
        "ap_fluxes = extractor.calculate_source_flux(sources, D)\n",
        "\n",
        "# Preview first 5 sources\n",
        "for i, s in enumerate(sources[:5]):\n",
        "    print(f\"{i+1:02d}: (x,y)={s.coordinates}, flux={s.flux}, SNR={s.snr}, size={s.size}, ellip={s.ellipticity}\")\n"
      ]
    },
    {
      "cell_type": "code",
      "execution_count": null,
      "metadata": {},
      "outputs": [],
      "source": [
        "# Visualization: overlay detections\n",
        "fig, ax = plt.subplots(1, 1, figsize=(12, 8))\n",
        "ax.imshow(D, cmap='viridis')\n",
        "\n",
        "# Draw circles at source locations\n",
        "for s in sources:\n",
        "    x, y = s.coordinates\n",
        "    r = config.aperture_radius\n",
        "    circle = plt.Circle((x, y), r, color='red', fill=False, linewidth=1.0)\n",
        "    ax.add_patch(circle)\n",
        "\n",
        "ax.set_title(f\"Detections overlay (N={len(sources)})\")\n",
        "plt.colorbar(ax.images[0], ax=ax)\n",
        "plt.show()\n"
      ]
    },
    {
      "cell_type": "code",
      "execution_count": null,
      "metadata": {},
      "outputs": [],
      "source": [
        "# Refinement imports: analyzer, filters, scorer\n",
        "from src.domains.detection.analyzers.photutils_analyzer import PhotutilsAnalyzer, PhotometryConfig\n",
        "from src.domains.detection.filters.candidate_filter import CandidateFilter\n",
        "from src.domains.detection.scorers.candidate_scorer import CandidateScorer, ScoringWeights\n",
        "import sep\n",
        "from scipy.ndimage import gaussian_filter\n",
        "\n",
        "phot_analyzer = PhotutilsAnalyzer(PhotometryConfig(aperture_radius=4.0, annulus_inner=6.0, annulus_outer=9.0))\n",
        "print(\"✅ Analyzer/Filter/Scorer ready\")\n"
      ]
    },
    {
      "cell_type": "code",
      "execution_count": null,
      "metadata": {},
      "outputs": [],
      "source": [
        "# Background/noise aided extraction with tighter parameters\n",
        "config.detection_threshold = 3.0\n",
        "config.min_pixels = 8\n",
        "extractor = SEPExtractor(config)\n",
        "\n",
        "D_smooth = gaussian_filter(D, sigma=1.0)\n",
        "bkg = sep.Background(D_smooth.astype(np.float64))\n",
        "D_sub = D_smooth - bkg.back()\n",
        "\n",
        "sources_bkg = extractor.extract_sources_with_background(D_sub, bkg.back())\n",
        "print(f\"Detected with bkg: {len(sources_bkg)}\")\n"
      ]
    },
    {
      "cell_type": "code",
      "execution_count": null,
      "metadata": {},
      "outputs": [],
      "source": [
        "# Filtering and deduplication\n",
        "filtered = CandidateFilter.filter_by_snr(sources_bkg, min_snr=3.5)\n",
        "filtered = CandidateFilter.filter_by_size(filtered, min_size=10, max_size=600)\n",
        "filtered = CandidateFilter.filter_by_shape(filtered, max_ellipticity=0.75)\n",
        "H, W = D.shape\n",
        "filtered = CandidateFilter.filter_by_position(filtered, {\"x_min\": 5, \"y_min\": 5, \"x_max\": W-5, \"y_max\": H-5})\n",
        "filtered = CandidateFilter.filter_duplicates(filtered, min_distance=5.0)\n",
        "print(f\"After filtering: {len(filtered)}\")\n"
      ]
    },
    {
      "cell_type": "code",
      "execution_count": null,
      "metadata": {},
      "outputs": [],
      "source": [
        "# Photometry and morphology stats\n",
        "phot = phot_analyzer.calculate_aperture_photometry(filtered, D_sub)\n",
        "morph = phot_analyzer.measure_source_morphology(filtered, D_sub)\n",
        "stats = phot_analyzer.calculate_source_statistics(filtered, D_sub)\n",
        "print(\"Stats:\", stats)\n",
        "print(\"Photometry sample:\", phot[:3])\n",
        "print(\"Morphology sample:\", morph[:3])\n"
      ]
    },
    {
      "cell_type": "code",
      "execution_count": null,
      "metadata": {},
      "outputs": [],
      "source": [
        "# Scoring and ranking\n",
        "scorer = CandidateScorer()\n",
        "ranked = scorer.rank_candidates(filtered, D_sub, context={\"width\": W, \"height\": H, \"edge_margin\": 5})\n",
        "print(f\"After filtering: {len(filtered)}, top5 scores: {[round(s,3) for _, s in ranked[:5]]}\")\n",
        "\n",
        "top_k = 50\n",
        "sel = [s for s, _ in ranked[:top_k]]\n",
        "\n",
        "# Overlay\n",
        "fig, ax = plt.subplots(1, 1, figsize=(12, 8))\n",
        "ax.imshow(D, cmap='viridis')\n",
        "for s in sel:\n",
        "    x, y = s.coordinates\n",
        "    circ = Circle((x, y), 5.0, color='lime', fill=False, linewidth=1.2)\n",
        "    ax.add_patch(circ)\n",
        "ax.set_title(f\"Top-{top_k} ranked candidates\")\n",
        "plt.colorbar(ax.images[0], ax=ax)\n",
        "plt.show()\n"
      ]
    }
  ],
  "metadata": {
    "kernelspec": {
      "display_name": ".venv",
      "language": "python",
      "name": "python3"
    },
    "language_info": {
      "codemirror_mode": {
        "name": "ipython",
        "version": 3
      },
      "file_extension": ".py",
      "mimetype": "text/x-python",
      "name": "python",
      "nbconvert_exporter": "python",
      "pygments_lexer": "ipython3",
      "version": "3.12.3"
    }
  },
  "nbformat": 4,
  "nbformat_minor": 2
}

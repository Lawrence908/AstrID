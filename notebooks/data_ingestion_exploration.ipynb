{
  "cells": [
    {
      "cell_type": "markdown",
      "metadata": {},
      "source": [
        "# AstrID Data Ingestion Exploration\n",
        "\n",
        "This notebook explores and tests the data ingestion functionality for the AstrID system.\n",
        "\n",
        "## Overview\n",
        "- Test FITS file processing\n",
        "- Explore coordinate transformations\n",
        "- Test MAST and SkyView integration\n",
        "- Visualize ingested data\n",
        "- Validate observation records\n"
      ]
    },
    {
      "cell_type": "code",
      "execution_count": null,
      "metadata": {},
      "outputs": [],
      "source": [
        "# Setup and imports\n",
        "import sys\n",
        "import os\n",
        "from pathlib import Path\n",
        "\n",
        "# Add project root to path\n",
        "project_root = Path.cwd().parent\n",
        "sys.path.insert(0, str(project_root))\n",
        "\n",
        "print(f\"Project root: {project_root}\")\n",
        "print(f\"Current working directory: {Path.cwd()}\")\n"
      ]
    },
    {
      "cell_type": "code",
      "execution_count": null,
      "metadata": {},
      "outputs": [],
      "source": [
        "# Core imports\n",
        "import numpy as np\n",
        "import matplotlib.pyplot as plt\n",
        "from astropy.coordinates import SkyCoord\n",
        "from astropy.io import fits\n",
        "from astropy import units as u\n",
        "from datetime import datetime\n",
        "from uuid import uuid4\n",
        "import asyncio\n",
        "import logging\n",
        "\n",
        "# Set up logging\n",
        "logging.basicConfig(level=logging.INFO)\n",
        "logger = logging.getLogger(__name__)\n"
      ]
    },
    {
      "cell_type": "markdown",
      "metadata": {},
      "source": [
        "## 1. Test Basic FITS Processing\n",
        "\n",
        "Let's start by testing our FITS processor with some sample data.\n"
      ]
    },
    {
      "cell_type": "code",
      "execution_count": null,
      "metadata": {},
      "outputs": [],
      "source": [
        "# Import our FITS processors\n",
        "from src.adapters.imaging.fits_io import FITSProcessor\n",
        "from src.domains.preprocessing.processors.fits_processing import AdvancedFITSProcessor\n",
        "from src.domains.observations.ingestion.processors.coordinate_utils import CoordinateProcessor\n",
        "\n",
        "# Initialize processors\n",
        "fits_processor = FITSProcessor()\n",
        "advanced_fits = AdvancedFITSProcessor()\n",
        "coord_processor = CoordinateProcessor()\n",
        "\n",
        "print(\"✅ Processors initialized successfully\")\n"
      ]
    },
    {
      "cell_type": "code",
      "execution_count": null,
      "metadata": {},
      "outputs": [],
      "source": [
        "# Test coordinate utilities\n",
        "print(\"Testing coordinate utilities...\")\n",
        "\n",
        "# Generate random coordinates\n",
        "random_coords = coord_processor.get_random_coordinates(avoid_galactic_plane=True)\n",
        "print(f\"Random coordinates: RA={random_coords[0]:.4f}°, Dec={random_coords[1]:.4f}°\")\n",
        "\n",
        "# Test coordinate cleaning\n",
        "test_dec = \"+45:30:15.5\"\n",
        "clean_dec = coord_processor.clean_dec_value(test_dec)\n",
        "print(f\"Cleaned declination: {test_dec} -> {clean_dec}\")\n",
        "\n",
        "# Test circular mask creation\n",
        "mask = coord_processor.create_circular_mask(100, 100, center=(50, 50), radius=20)\n",
        "print(f\"Created circular mask shape: {mask.shape}, True pixels: {np.sum(mask)}\")\n"
      ]
    }
  ],
  "metadata": {
    "kernelspec": {
      "display_name": ".venv",
      "language": "python",
      "name": "python3"
    },
    "language_info": {
      "name": "python",
      "version": "3.12.3"
    }
  },
  "nbformat": 4,
  "nbformat_minor": 2
}

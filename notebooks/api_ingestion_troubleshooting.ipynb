{
  "cells": [
    {
      "cell_type": "markdown",
      "metadata": {},
      "source": [
        "## AstrID API Ingestion Troubleshooting\n",
        "\n",
        "This notebook uses the public API to ingest real survey data and verify results. It is safe to run repeatedly and helps validate auth, SSL, and endpoint behavior.\n",
        "\n",
        "Endpoints used:\n",
        "- POST `/observations/surveys/{survey_id}/ingest` (primary)\n",
        "- GET `/observations/surveys/{survey_id}/observations`\n",
        "- (optional) POST `/observations/ingest/mast`\n",
        "- (optional) POST `/observations/ingest/reference-dataset`\n"
      ]
    },
    {
      "cell_type": "code",
      "execution_count": 1,
      "metadata": {},
      "outputs": [
        {
          "name": "stdout",
          "output_type": "stream",
          "text": [
            "API_BASE: http://127.0.0.1:8000\n",
            "✅ Requests configured with certifi CA bundle\n"
          ]
        }
      ],
      "source": [
        "# Setup\n",
        "import os\n",
        "import json\n",
        "import time\n",
        "import certifi\n",
        "import requests\n",
        "from pathlib import Path\n",
        "\n",
        "# Base API\n",
        "API_BASE = os.getenv(\"ASTRID_API_BASE\", \"http://127.0.0.1:8000\")\n",
        "\n",
        "# Auth\n",
        "try:\n",
        "    from src.core.constants import FULL_ACCESS_API_KEY\n",
        "    API_KEY = FULL_ACCESS_API_KEY\n",
        "except Exception:\n",
        "    # fallback to env\n",
        "    API_KEY = os.getenv(\"ASTRID_API_KEY\", \"\")\n",
        "\n",
        "AUTH_HEADERS = {\n",
        "    \"X-API-Key\": API_KEY,\n",
        "    \"Content-Type\": \"application/json\",\n",
        "}\n",
        "\n",
        "REQUESTS_KW = {\"verify\": certifi.where(), \"timeout\": 120}\n",
        "\n",
        "print(f\"API_BASE: {API_BASE}\")\n",
        "print(\"✅ Requests configured with certifi CA bundle\")\n"
      ]
    },
    {
      "cell_type": "code",
      "execution_count": 2,
      "metadata": {},
      "outputs": [
        {
          "name": "stdout",
          "output_type": "stream",
          "text": [
            "✅ API helpers ready\n"
          ]
        }
      ],
      "source": [
        "# Helpers\n",
        "\n",
        "def api_post(path: str, payload: dict):\n",
        "    url = f\"{API_BASE}{path}\"\n",
        "    r = requests.post(url, headers=AUTH_HEADERS, json=payload, **REQUESTS_KW)\n",
        "    try:\n",
        "        print(r.text)\n",
        "        r.raise_for_status()\n",
        "    except Exception as e:\n",
        "        print(\"❌ POST\", url)\n",
        "        print(\"Status:\", r.status_code)\n",
        "        print(\"Body:\", r.text[:500])\n",
        "        raise\n",
        "    data = r.json()\n",
        "    return data.get(\"data\", data)\n",
        "\n",
        "\n",
        "def api_get(path: str, params: dict | None = None):\n",
        "    url = f\"{API_BASE}{path}\"\n",
        "    r = requests.get(url, headers=AUTH_HEADERS, params=params or {}, **REQUESTS_KW)\n",
        "    try:\n",
        "        r.raise_for_status()\n",
        "    except Exception as e:\n",
        "        print(\"❌ GET\", url)\n",
        "        print(\"Status:\", r.status_code)\n",
        "        print(\"Body:\", r.text[:500])\n",
        "        raise\n",
        "    data = r.json()\n",
        "    return data.get(\"data\", data)\n",
        "\n",
        "print(\"✅ API helpers ready\")\n"
      ]
    },
    {
      "cell_type": "code",
      "execution_count": 3,
      "metadata": {},
      "outputs": [
        {
          "name": "stdout",
          "output_type": "stream",
          "text": [
            "Using SURVEY_NAME=hst, SURVEY_ID=05e6090c-bac5-4b78-8d7d-ae15a7dde50f\n"
          ]
        }
      ],
      "source": [
        "# Configure target survey\n",
        "# Prefer SURVEY_NAME + per-survey env UUIDs; fallback to ASTRID_SURVEY_ID\n",
        "SURVEY_NAME = os.getenv(\"ASTRID_SURVEY_NAME\", \"hst\").lower()\n",
        "SURVEY_ID = os.getenv(\"ASTRID_SURVEY_ID\", \"\")\n",
        "\n",
        "ENV_MAP = {\n",
        "    \"hst\": os.getenv(\"ASTRID_HST_SURVEY_ID\", \"\"),\n",
        "    \"jwst\": os.getenv(\"ASTRID_JWST_SURVEY_ID\", \"\"),\n",
        "    \"dss2\": os.getenv(\"ASTRID_DSS2_SURVEY_ID\", \"\"),\n",
        "    \"tess\": os.getenv(\"ASTRID_TESS_SURVEY_ID\", \"\"),\n",
        "}\n",
        "if not SURVEY_ID:\n",
        "    SURVEY_ID = ENV_MAP.get(SURVEY_NAME, \"\")\n",
        "\n",
        "if not SURVEY_ID:\n",
        "    print(\"⚠️ Set ASTRID_SURVEY_ID or a per-survey env var (e.g., ASTRID_HST_SURVEY_ID)\")\n",
        "else:\n",
        "    print(f\"Using SURVEY_NAME={SURVEY_NAME}, SURVEY_ID={SURVEY_ID}\")\n"
      ]
    },
    {
      "cell_type": "code",
      "execution_count": 4,
      "metadata": {},
      "outputs": [
        {
          "name": "stdout",
          "output_type": "stream",
          "text": [
            "POST /observations/ingest/batch-random -> {'survey_id': '05e6090c-bac5-4b78-8d7d-ae15a7dde50f', 'count': 10, 'missions': ['HST'], 'avoid_galactic_plane': True}\n",
            "{\"status\":\"success\",\"data\":[{\"id\":\"75b52f52-bf19-4026-913e-133f00621a6f\",\"survey\":\"05e6090c-bac5-4b78-8d7d-ae15a7dde50f\",\"observation_id\":\"mock_obs_205.7185390679934_23.388625163506987\",\"ra\":205.7185391,\"dec\":23.3886252,\"observation_time\":\"2025-09-25T01:10:27.302819+00:00\",\"filter_band\":\"F814W\",\"exposure_time\":600.0,\"fits_url\":\"https://mast.stsci.edu/mock/...\",\"status\":\"ingested\",\"created_at\":\"2025-09-25T01:10:29.373675+00:00\",\"updated_at\":\"2025-09-25T01:10:29.373675+00:00\"},{\"id\":\"5ec09114-b50c-46b6-bffe-4378787201dd\",\"survey\":\"05e6090c-bac5-4b78-8d7d-ae15a7dde50f\",\"observation_id\":\"mock_obs_181.29621740005413_42.43318933057958\",\"ra\":181.2962174,\"dec\":42.4331893,\"observation_time\":\"2025-09-25T01:10:27.482691+00:00\",\"filter_band\":\"F814W\",\"exposure_time\":600.0,\"fits_url\":\"https://mast.stsci.edu/mock/...\",\"status\":\"ingested\",\"created_at\":\"2025-09-25T01:10:29.373675+00:00\",\"updated_at\":\"2025-09-25T01:10:29.373675+00:00\"},{\"id\":\"91c79403-1892-4dc9-be18-39165ef472df\",\"survey\":\"05e6090c-bac5-4b78-8d7d-ae15a7dde50f\",\"observation_id\":\"mock_obs_80.43654580761543_-15.393590306649514\",\"ra\":80.4365458,\"dec\":-15.3935903,\"observation_time\":\"2025-09-25T01:10:27.664477+00:00\",\"filter_band\":\"F814W\",\"exposure_time\":600.0,\"fits_url\":\"https://mast.stsci.edu/mock/...\",\"status\":\"ingested\",\"created_at\":\"2025-09-25T01:10:29.373675+00:00\",\"updated_at\":\"2025-09-25T01:10:29.373675+00:00\"},{\"id\":\"293d9edb-f441-49a7-b4f0-4db89a4a2f82\",\"survey\":\"05e6090c-bac5-4b78-8d7d-ae15a7dde50f\",\"observation_id\":\"mock_obs_168.55591058877195_-21.138034245393115\",\"ra\":168.5559106,\"dec\":-21.1380342,\"observation_time\":\"2025-09-25T01:10:27.843968+00:00\",\"filter_band\":\"F814W\",\"exposure_time\":600.0,\"fits_url\":\"https://mast.stsci.edu/mock/...\",\"status\":\"ingested\",\"created_at\":\"2025-09-25T01:10:29.373675+00:00\",\"updated_at\":\"2025-09-25T01:10:29.373675+00:00\"},{\"id\":\"6a9940e8-1b92-495b-94e1-0435900b6fac\",\"survey\":\"05e6090c-bac5-4b78-8d7d-ae15a7dde50f\",\"observation_id\":\"mock_obs_67.42948569188276_-54.88849749118132\",\"ra\":67.4294857,\"dec\":-54.8884975,\"observation_time\":\"2025-09-25T01:10:28.025682+00:00\",\"filter_band\":\"F814W\",\"exposure_time\":600.0,\"fits_url\":\"https://mast.stsci.edu/mock/...\",\"status\":\"ingested\",\"created_at\":\"2025-09-25T01:10:29.373675+00:00\",\"updated_at\":\"2025-09-25T01:10:29.373675+00:00\"},{\"id\":\"ea0a46fa-16ab-4213-b4ce-235976d628b8\",\"survey\":\"05e6090c-bac5-4b78-8d7d-ae15a7dde50f\",\"observation_id\":\"mock_obs_231.16792205412793_39.149934184764746\",\"ra\":231.1679221,\"dec\":39.1499342,\"observation_time\":\"2025-09-25T01:10:28.204095+00:00\",\"filter_band\":\"F814W\",\"exposure_time\":600.0,\"fits_url\":\"https://mast.stsci.edu/mock/...\",\"status\":\"ingested\",\"created_at\":\"2025-09-25T01:10:29.373675+00:00\",\"updated_at\":\"2025-09-25T01:10:29.373675+00:00\"},{\"id\":\"9c43a004-2609-4732-8e07-aa14492daba2\",\"survey\":\"05e6090c-bac5-4b78-8d7d-ae15a7dde50f\",\"observation_id\":\"mock_obs_3.8444302790277707_9.1690465098214\",\"ra\":3.8444303,\"dec\":9.1690465,\"observation_time\":\"2025-09-25T01:10:28.382438+00:00\",\"filter_band\":\"F814W\",\"exposure_time\":600.0,\"fits_url\":\"https://mast.stsci.edu/mock/...\",\"status\":\"ingested\",\"created_at\":\"2025-09-25T01:10:29.373675+00:00\",\"updated_at\":\"2025-09-25T01:10:29.373675+00:00\"},{\"id\":\"6d3225b4-7e96-4e63-a7c0-51f8892bb1fa\",\"survey\":\"05e6090c-bac5-4b78-8d7d-ae15a7dde50f\",\"observation_id\":\"mock_obs_163.04653408892548_34.2521778019523\",\"ra\":163.0465341,\"dec\":34.2521778,\"observation_time\":\"2025-09-25T01:10:28.562908+00:00\",\"filter_band\":\"F814W\",\"exposure_time\":600.0,\"fits_url\":\"https://mast.stsci.edu/mock/...\",\"status\":\"ingested\",\"created_at\":\"2025-09-25T01:10:29.373675+00:00\",\"updated_at\":\"2025-09-25T01:10:29.373675+00:00\"},{\"id\":\"c578c63c-b210-490b-acbf-6dc45ff6d58f\",\"survey\":\"05e6090c-bac5-4b78-8d7d-ae15a7dde50f\",\"observation_id\":\"mock_obs_344.7007696244319_-58.531243478494204\",\"ra\":344.7007696,\"dec\":-58.5312435,\"observation_time\":\"2025-09-25T01:10:28.737693+00:00\",\"filter_band\":\"F814W\",\"exposure_time\":600.0,\"fits_url\":\"https://mast.stsci.edu/mock/...\",\"status\":\"ingested\",\"created_at\":\"2025-09-25T01:10:29.373675+00:00\",\"updated_at\":\"2025-09-25T01:10:29.373675+00:00\"},{\"id\":\"2216df49-20e3-4f32-9434-72603fa1bc82\",\"survey\":\"05e6090c-bac5-4b78-8d7d-ae15a7dde50f\",\"observation_id\":\"mock_obs_28.766088941222108_-34.90162564889096\",\"ra\":28.7660889,\"dec\":-34.9016256,\"observation_time\":\"2025-09-25T01:10:28.903935+00:00\",\"filter_band\":\"F814W\",\"exposure_time\":600.0,\"fits_url\":\"https://mast.stsci.edu/mock/...\",\"status\":\"ingested\",\"created_at\":\"2025-09-25T01:10:29.373675+00:00\",\"updated_at\":\"2025-09-25T01:10:29.373675+00:00\"}],\"meta\":{},\"error\":null}\n",
            "Ingested: 10\n",
            "Observation IDs: ['75b52f52-bf19-4026-913e-133f00621a6f', '5ec09114-b50c-46b6-bffe-4378787201dd', '91c79403-1892-4dc9-be18-39165ef472df', '293d9edb-f441-49a7-b4f0-4db89a4a2f82', '6a9940e8-1b92-495b-94e1-0435900b6fac']\n"
          ]
        }
      ],
      "source": [
        "# 1) Ingest observations (API-key friendly)\n",
        "# Use batch-random endpoint which accepts X-API-Key\n",
        "if not SURVEY_ID:\n",
        "    raise RuntimeError(\"SURVEY_ID is required. Set ASTRID_SURVEY_ID or proper per-survey env var.\")\n",
        "\n",
        "payload = {\n",
        "    \"survey_id\": SURVEY_ID,\n",
        "    \"count\": 10,\n",
        "    \"missions\": [\"HST\" if SURVEY_NAME == \"hst\" else SURVEY_NAME.upper()],\n",
        "    \"avoid_galactic_plane\": True,\n",
        "}\n",
        "\n",
        "print(\"POST /observations/ingest/batch-random ->\", payload)\n",
        "res = api_post(\"/observations/ingest/batch-random\", payload)\n",
        "print(\"Ingested:\", len(res))\n",
        "# Keep IDs for follow-up steps\n",
        "observation_ids = [o.get(\"id\") for o in res if isinstance(o, dict) and o.get(\"id\")]\n",
        "print(\"Observation IDs:\", observation_ids[:5])\n"
      ]
    },
    {
      "cell_type": "code",
      "execution_count": 5,
      "metadata": {},
      "outputs": [
        {
          "name": "stdout",
          "output_type": "stream",
          "text": [
            "Total: 0 Showing: 0\n"
          ]
        }
      ],
      "source": [
        "# 2) Verify observations under survey\n",
        "ver = api_get(f\"/observations/surveys/{SURVEY_ID}/observations\", params={\"limit\": 10})\n",
        "print(\"Total:\", ver.get(\"total\"), \"Showing:\", len(ver.get(\"observations\", [])))\n",
        "for o in ver.get(\"observations\", [])[:3]:\n",
        "    print(o[\"observation_id\"], o[\"ra\"], o[\"dec\"], o[\"status\"])\n"
      ]
    },
    {
      "cell_type": "code",
      "execution_count": 6,
      "metadata": {},
      "outputs": [
        {
          "name": "stdout",
          "output_type": "stream",
          "text": [
            "POST /observations/ingest/mast -> {'survey_id': '05e6090c-bac5-4b78-8d7d-ae15a7dde50f', 'ra': 83.633, 'dec': 22.0145, 'radius': 0.1, 'missions': ['HST']}\n",
            "{\"status\":\"success\",\"data\":[{\"id\":\"a4470655-21da-4827-8d9a-9f07b6604bc6\",\"survey\":\"05e6090c-bac5-4b78-8d7d-ae15a7dde50f\",\"observation_id\":\"mock_obs_83.633_22.0145\",\"ra\":83.633,\"dec\":22.0145,\"observation_time\":\"2025-09-25T01:10:33.080675+00:00\",\"filter_band\":\"F814W\",\"exposure_time\":600.0,\"fits_url\":\"https://mast.stsci.edu/mock/...\",\"status\":\"ingested\",\"created_at\":\"2025-09-25T01:10:33.446046+00:00\",\"updated_at\":\"2025-09-25T01:10:33.446046+00:00\"}],\"meta\":{},\"error\":null}\n",
            "MAST ingested: 1\n"
          ]
        }
      ],
      "source": [
        "# Optional: single position ingest (MAST)\n",
        "payload_mast = {\n",
        "    \"survey_id\": SURVEY_ID,\n",
        "    \"ra\": 83.633,\n",
        "    \"dec\": 22.0145,\n",
        "    \"radius\": 0.1,\n",
        "    \"missions\": [\"HST\" if SURVEY_NAME == \"hst\" else SURVEY_NAME.upper()],\n",
        "}\n",
        "\n",
        "print(\"POST /observations/ingest/mast ->\", payload_mast)\n",
        "res_mast = api_post(\"/observations/ingest/mast\", payload_mast)\n",
        "print(\"MAST ingested:\", len(res_mast))\n"
      ]
    },
    {
      "cell_type": "code",
      "execution_count": 7,
      "metadata": {},
      "outputs": [
        {
          "name": "stdout",
          "output_type": "stream",
          "text": [
            "POST /observations/ingest/reference-dataset -> {'survey_id': '05e6090c-bac5-4b78-8d7d-ae15a7dde50f', 'ra': 83.633, 'dec': 22.0145, 'size': 0.25, 'pixels': 512, 'surveys': ['DSS2 Red']}\n",
            "{\"status\":\"success\",\"data\":{\"r2_object_key\":\"reference-datasets/DSS2_Red/83.6330_22.0145_0.250deg_512px.fits\",\"r2_url\":\"https://bbbcaad8e3d2220c8ed5ada6fd9d52ea.r2.cloudflarestorage.com/astrid/reference-datasets/DSS2_Red/83.6330_22.0145_0.250deg_512px.fits\",\"bucket\":\"astrid\",\"local_path\":\"/tmp/astrid_reference_zixstksk/reference_83.6330_22.0145.fits\",\"ra\":83.633,\"dec\":22.0145,\"size_degrees\":0.25,\"pixels\":512,\"surveys\":[\"DSS2 Red\"],\"metadata\":{\"ra\":\"83.633\",\"dec\":\"22.0145\",\"size_degrees\":\"0.25\",\"pixels\":\"512\",\"surveys\":\"DSS2 Red\",\"catalog\":\"II/246\",\"created_at\":\"2025-09-25T01:10:34.001983+00:00\",\"file_type\":\"reference_dataset\"}},\"meta\":{},\"error\":null}\n",
            "Reference dataset created: ['r2_object_key', 'r2_url', 'bucket', 'local_path', 'ra', 'dec', 'size_degrees', 'pixels', 'surveys', 'metadata']\n"
          ]
        }
      ],
      "source": [
        "# Optional: reference dataset (SkyView/HiPS cutouts)\n",
        "payload_ref = {\n",
        "    \"survey_id\": SURVEY_ID,\n",
        "    \"ra\": 83.633,\n",
        "    \"dec\": 22.0145,\n",
        "    \"size\": 0.25,\n",
        "    \"pixels\": 512,\n",
        "    \"surveys\": [\"DSS2 Red\"],\n",
        "}\n",
        "\n",
        "print(\"POST /observations/ingest/reference-dataset ->\", payload_ref)\n",
        "try:\n",
        "    res_ref = api_post(\"/observations/ingest/reference-dataset\", payload_ref)\n",
        "    print(\"Reference dataset created:\", list(res_ref.keys()))\n",
        "except Exception as e:\n",
        "    print(\"Reference dataset creation failed (skip):\", e)\n"
      ]
    }
  ],
  "metadata": {
    "kernelspec": {
      "display_name": ".venv",
      "language": "python",
      "name": "python3"
    },
    "language_info": {
      "codemirror_mode": {
        "name": "ipython",
        "version": 3
      },
      "file_extension": ".py",
      "mimetype": "text/x-python",
      "name": "python",
      "nbconvert_exporter": "python",
      "pygments_lexer": "ipython3",
      "version": "3.12.3"
    }
  },
  "nbformat": 4,
  "nbformat_minor": 2
}

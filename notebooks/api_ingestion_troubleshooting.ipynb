{
  "cells": [
    {
      "cell_type": "markdown",
      "metadata": {},
      "source": [
        "## AstrID API Ingestion Troubleshooting\n",
        "\n",
        "This notebook uses the public API to ingest real survey data and verify results. It is safe to run repeatedly and helps validate auth, SSL, and endpoint behavior.\n",
        "\n",
        "Endpoints used:\n",
        "- POST `/observations/surveys/{survey_id}/ingest` (primary)\n",
        "- GET `/observations/surveys/{survey_id}/observations`\n",
        "- (optional) POST `/observations/ingest/mast`\n",
        "- (optional) POST `/observations/ingest/reference-dataset`\n"
      ]
    },
    {
      "cell_type": "code",
      "execution_count": 6,
      "metadata": {},
      "outputs": [
        {
          "name": "stdout",
          "output_type": "stream",
          "text": [
            "API_BASE: http://127.0.0.1:8000\n",
            "✅ Requests configured with certifi CA bundle\n"
          ]
        }
      ],
      "source": [
        "# Setup\n",
        "import os\n",
        "import json\n",
        "import time\n",
        "import certifi\n",
        "import requests\n",
        "from pathlib import Path\n",
        "\n",
        "# Base API\n",
        "API_BASE = os.getenv(\"ASTRID_API_BASE\", \"http://127.0.0.1:8000\")\n",
        "\n",
        "# Auth\n",
        "try:\n",
        "    from src.core.constants import FULL_ACCESS_API_KEY\n",
        "    API_KEY = FULL_ACCESS_API_KEY\n",
        "except Exception:\n",
        "    # fallback to env\n",
        "    API_KEY = os.getenv(\"ASTRID_API_KEY\", \"\")\n",
        "\n",
        "AUTH_HEADERS = {\n",
        "    \"X-API-Key\": API_KEY,\n",
        "    \"Content-Type\": \"application/json\",\n",
        "}\n",
        "\n",
        "REQUESTS_KW = {\"verify\": certifi.where(), \"timeout\": 120}\n",
        "\n",
        "print(f\"API_BASE: {API_BASE}\")\n",
        "print(\"✅ Requests configured with certifi CA bundle\")\n"
      ]
    },
    {
      "cell_type": "code",
      "execution_count": 7,
      "metadata": {},
      "outputs": [
        {
          "name": "stdout",
          "output_type": "stream",
          "text": [
            "✅ API helpers ready\n"
          ]
        }
      ],
      "source": [
        "# Helpers\n",
        "\n",
        "def api_post(path: str, payload: dict):\n",
        "    url = f\"{API_BASE}{path}\"\n",
        "    r = requests.post(url, headers=AUTH_HEADERS, json=payload, **REQUESTS_KW)\n",
        "    try:\n",
        "        print(r.text)\n",
        "        r.raise_for_status()\n",
        "    except Exception as e:\n",
        "        print(\"❌ POST\", url)\n",
        "        print(\"Status:\", r.status_code)\n",
        "        print(\"Body:\", r.text[:500])\n",
        "        raise\n",
        "    data = r.json()\n",
        "    return data.get(\"data\", data)\n",
        "\n",
        "\n",
        "def api_get(path: str, params: dict | None = None):\n",
        "    url = f\"{API_BASE}{path}\"\n",
        "    r = requests.get(url, headers=AUTH_HEADERS, params=params or {}, **REQUESTS_KW)\n",
        "    try:\n",
        "        r.raise_for_status()\n",
        "    except Exception as e:\n",
        "        print(\"❌ GET\", url)\n",
        "        print(\"Status:\", r.status_code)\n",
        "        print(\"Body:\", r.text[:500])\n",
        "        raise\n",
        "    data = r.json()\n",
        "    return data.get(\"data\", data)\n",
        "\n",
        "print(\"✅ API helpers ready\")\n"
      ]
    },
    {
      "cell_type": "code",
      "execution_count": 8,
      "metadata": {},
      "outputs": [
        {
          "name": "stdout",
          "output_type": "stream",
          "text": [
            "Using SURVEY_NAME=hst, SURVEY_ID=05e6090c-bac5-4b78-8d7d-ae15a7dde50f\n"
          ]
        }
      ],
      "source": [
        "# Configure target survey\n",
        "# Prefer SURVEY_NAME + per-survey env UUIDs; fallback to ASTRID_SURVEY_ID\n",
        "SURVEY_NAME = os.getenv(\"ASTRID_SURVEY_NAME\", \"hst\").lower()\n",
        "SURVEY_ID = os.getenv(\"ASTRID_SURVEY_ID\", \"\")\n",
        "\n",
        "ENV_MAP = {\n",
        "    \"hst\": os.getenv(\"ASTRID_HST_SURVEY_ID\", \"\"),\n",
        "    \"jwst\": os.getenv(\"ASTRID_JWST_SURVEY_ID\", \"\"),\n",
        "    \"dss2\": os.getenv(\"ASTRID_DSS2_SURVEY_ID\", \"\"),\n",
        "    \"tess\": os.getenv(\"ASTRID_TESS_SURVEY_ID\", \"\"),\n",
        "}\n",
        "if not SURVEY_ID:\n",
        "    SURVEY_ID = ENV_MAP.get(SURVEY_NAME, \"\")\n",
        "\n",
        "if not SURVEY_ID:\n",
        "    print(\"⚠️ Set ASTRID_SURVEY_ID or a per-survey env var (e.g., ASTRID_HST_SURVEY_ID)\")\n",
        "else:\n",
        "    print(f\"Using SURVEY_NAME={SURVEY_NAME}, SURVEY_ID={SURVEY_ID}\")\n"
      ]
    },
    {
      "cell_type": "code",
      "execution_count": 9,
      "metadata": {},
      "outputs": [
        {
          "name": "stdout",
          "output_type": "stream",
          "text": [
            "POST /observations/ingest/batch-random -> {'survey_id': '05e6090c-bac5-4b78-8d7d-ae15a7dde50f', 'count': 10, 'missions': ['HST'], 'avoid_galactic_plane': True}\n",
            "{\"status\":\"success\",\"data\":[{\"id\":\"8a040dd3-3402-4b55-8bc0-dd7412eb5fda\",\"survey\":\"05e6090c-bac5-4b78-8d7d-ae15a7dde50f\",\"observation_id\":\"mock_obs_231.5337485636403_-7.314540982100667\",\"ra\":231.5337486,\"dec\":-7.314541,\"observation_time\":\"2025-09-24T09:35:51.288312+00:00\",\"filter_band\":\"F814W\",\"exposure_time\":600.0,\"fits_url\":\"https://mast.stsci.edu/mock/...\",\"status\":\"ingested\",\"created_at\":\"2025-09-24T09:35:54.412033+00:00\",\"updated_at\":\"2025-09-24T09:35:54.412033+00:00\"},{\"id\":\"c141aef3-de1a-4eae-8662-4e60df211777\",\"survey\":\"05e6090c-bac5-4b78-8d7d-ae15a7dde50f\",\"observation_id\":\"mock_obs_91.80514764316993_-5.60760053522182\",\"ra\":91.8051476,\"dec\":-5.6076005,\"observation_time\":\"2025-09-24T09:35:51.454192+00:00\",\"filter_band\":\"F814W\",\"exposure_time\":600.0,\"fits_url\":\"https://mast.stsci.edu/mock/...\",\"status\":\"ingested\",\"created_at\":\"2025-09-24T09:35:54.412033+00:00\",\"updated_at\":\"2025-09-24T09:35:54.412033+00:00\"},{\"id\":\"22c23e3d-e11d-472e-bcd1-05d9a3c7d79f\",\"survey\":\"05e6090c-bac5-4b78-8d7d-ae15a7dde50f\",\"observation_id\":\"mock_obs_279.107432060041_58.28434473022317\",\"ra\":279.1074321,\"dec\":58.2843447,\"observation_time\":\"2025-09-24T09:35:51.623488+00:00\",\"filter_band\":\"F814W\",\"exposure_time\":600.0,\"fits_url\":\"https://mast.stsci.edu/mock/...\",\"status\":\"ingested\",\"created_at\":\"2025-09-24T09:35:54.412033+00:00\",\"updated_at\":\"2025-09-24T09:35:54.412033+00:00\"},{\"id\":\"7da6ee0f-f723-4577-a871-6d39be9fbf42\",\"survey\":\"05e6090c-bac5-4b78-8d7d-ae15a7dde50f\",\"observation_id\":\"mock_obs_8.685524577456656_-52.70920992052913\",\"ra\":8.6855246,\"dec\":-52.7092099,\"observation_time\":\"2025-09-24T09:35:51.789959+00:00\",\"filter_band\":\"F814W\",\"exposure_time\":600.0,\"fits_url\":\"https://mast.stsci.edu/mock/...\",\"status\":\"ingested\",\"created_at\":\"2025-09-24T09:35:54.412033+00:00\",\"updated_at\":\"2025-09-24T09:35:54.412033+00:00\"},{\"id\":\"475a0446-5022-4b89-a58e-0b6647243831\",\"survey\":\"05e6090c-bac5-4b78-8d7d-ae15a7dde50f\",\"observation_id\":\"mock_obs_289.18876386566063_-23.000407721958553\",\"ra\":289.1887639,\"dec\":-23.0004077,\"observation_time\":\"2025-09-24T09:35:51.960783+00:00\",\"filter_band\":\"F814W\",\"exposure_time\":600.0,\"fits_url\":\"https://mast.stsci.edu/mock/...\",\"status\":\"ingested\",\"created_at\":\"2025-09-24T09:35:54.412033+00:00\",\"updated_at\":\"2025-09-24T09:35:54.412033+00:00\"},{\"id\":\"90372e1a-0ece-4e8a-b2d2-958b118f10a7\",\"survey\":\"05e6090c-bac5-4b78-8d7d-ae15a7dde50f\",\"observation_id\":\"mock_obs_132.57027247795168_16.57542252019617\",\"ra\":132.5702725,\"dec\":16.5754225,\"observation_time\":\"2025-09-24T09:35:52.140211+00:00\",\"filter_band\":\"F814W\",\"exposure_time\":600.0,\"fits_url\":\"https://mast.stsci.edu/mock/...\",\"status\":\"ingested\",\"created_at\":\"2025-09-24T09:35:54.412033+00:00\",\"updated_at\":\"2025-09-24T09:35:54.412033+00:00\"},{\"id\":\"1a9e0868-64bd-456b-93a2-8a2bfb63cdd6\",\"survey\":\"05e6090c-bac5-4b78-8d7d-ae15a7dde50f\",\"observation_id\":\"mock_obs_105.1261303761939_35.63379209417249\",\"ra\":105.1261304,\"dec\":35.6337921,\"observation_time\":\"2025-09-24T09:35:52.314064+00:00\",\"filter_band\":\"F814W\",\"exposure_time\":600.0,\"fits_url\":\"https://mast.stsci.edu/mock/...\",\"status\":\"ingested\",\"created_at\":\"2025-09-24T09:35:54.412033+00:00\",\"updated_at\":\"2025-09-24T09:35:54.412033+00:00\"},{\"id\":\"b3427d4f-9f4e-4730-ba5c-5435914947dd\",\"survey\":\"05e6090c-bac5-4b78-8d7d-ae15a7dde50f\",\"observation_id\":\"mock_obs_37.43102298660795_-43.32754249344809\",\"ra\":37.431023,\"dec\":-43.3275425,\"observation_time\":\"2025-09-24T09:35:52.485744+00:00\",\"filter_band\":\"F814W\",\"exposure_time\":600.0,\"fits_url\":\"https://mast.stsci.edu/mock/...\",\"status\":\"ingested\",\"created_at\":\"2025-09-24T09:35:54.412033+00:00\",\"updated_at\":\"2025-09-24T09:35:54.412033+00:00\"},{\"id\":\"be44966f-4de3-4d8f-b3d8-9def19a3290e\",\"survey\":\"05e6090c-bac5-4b78-8d7d-ae15a7dde50f\",\"observation_id\":\"mock_obs_151.99980311836507_-32.71034946550093\",\"ra\":151.9998031,\"dec\":-32.7103495,\"observation_time\":\"2025-09-24T09:35:52.644869+00:00\",\"filter_band\":\"F814W\",\"exposure_time\":600.0,\"fits_url\":\"https://mast.stsci.edu/mock/...\",\"status\":\"ingested\",\"created_at\":\"2025-09-24T09:35:54.412033+00:00\",\"updated_at\":\"2025-09-24T09:35:54.412033+00:00\"},{\"id\":\"d7e81c57-c126-461c-b809-054a148cf09c\",\"survey\":\"05e6090c-bac5-4b78-8d7d-ae15a7dde50f\",\"observation_id\":\"mock_obs_350.0724500447545_-20.365199761265224\",\"ra\":350.07245,\"dec\":-20.3651998,\"observation_time\":\"2025-09-24T09:35:52.809769+00:00\",\"filter_band\":\"F814W\",\"exposure_time\":600.0,\"fits_url\":\"https://mast.stsci.edu/mock/...\",\"status\":\"ingested\",\"created_at\":\"2025-09-24T09:35:54.412033+00:00\",\"updated_at\":\"2025-09-24T09:35:54.412033+00:00\"}],\"meta\":{},\"error\":null}\n",
            "Ingested: 10\n",
            "Observation IDs: ['8a040dd3-3402-4b55-8bc0-dd7412eb5fda', 'c141aef3-de1a-4eae-8662-4e60df211777', '22c23e3d-e11d-472e-bcd1-05d9a3c7d79f', '7da6ee0f-f723-4577-a871-6d39be9fbf42', '475a0446-5022-4b89-a58e-0b6647243831']\n"
          ]
        }
      ],
      "source": [
        "# 1) Ingest observations (API-key friendly)\n",
        "# Use batch-random endpoint which accepts X-API-Key\n",
        "if not SURVEY_ID:\n",
        "    raise RuntimeError(\"SURVEY_ID is required. Set ASTRID_SURVEY_ID or proper per-survey env var.\")\n",
        "\n",
        "payload = {\n",
        "    \"survey_id\": SURVEY_ID,\n",
        "    \"count\": 10,\n",
        "    \"missions\": [\"HST\" if SURVEY_NAME == \"hst\" else SURVEY_NAME.upper()],\n",
        "    \"avoid_galactic_plane\": True,\n",
        "}\n",
        "\n",
        "print(\"POST /observations/ingest/batch-random ->\", payload)\n",
        "res = api_post(\"/observations/ingest/batch-random\", payload)\n",
        "print(\"Ingested:\", len(res))\n",
        "# Keep IDs for follow-up steps\n",
        "observation_ids = [o.get(\"id\") for o in res if isinstance(o, dict) and o.get(\"id\")]\n",
        "print(\"Observation IDs:\", observation_ids[:5])\n"
      ]
    },
    {
      "cell_type": "code",
      "execution_count": 10,
      "metadata": {},
      "outputs": [
        {
          "name": "stdout",
          "output_type": "stream",
          "text": [
            "❌ GET http://127.0.0.1:8000/observations/surveys/05e6090c-bac5-4b78-8d7d-ae15a7dde50f/observations\n",
            "Status: 403\n",
            "Body: {\"detail\":\"Not authenticated\"}\n"
          ]
        },
        {
          "ename": "HTTPError",
          "evalue": "403 Client Error: Forbidden for url: http://127.0.0.1:8000/observations/surveys/05e6090c-bac5-4b78-8d7d-ae15a7dde50f/observations?limit=10",
          "output_type": "error",
          "traceback": [
            "\u001b[31m---------------------------------------------------------------------------\u001b[39m",
            "\u001b[31mHTTPError\u001b[39m                                 Traceback (most recent call last)",
            "\u001b[36mCell\u001b[39m\u001b[36m \u001b[39m\u001b[32mIn[10]\u001b[39m\u001b[32m, line 2\u001b[39m\n\u001b[32m      1\u001b[39m \u001b[38;5;66;03m# 2) Verify observations under survey\u001b[39;00m\n\u001b[32m----> \u001b[39m\u001b[32m2\u001b[39m ver = \u001b[43mapi_get\u001b[49m\u001b[43m(\u001b[49m\u001b[33;43mf\u001b[39;49m\u001b[33;43m\"\u001b[39;49m\u001b[33;43m/observations/surveys/\u001b[39;49m\u001b[38;5;132;43;01m{\u001b[39;49;00m\u001b[43mSURVEY_ID\u001b[49m\u001b[38;5;132;43;01m}\u001b[39;49;00m\u001b[33;43m/observations\u001b[39;49m\u001b[33;43m\"\u001b[39;49m\u001b[43m,\u001b[49m\u001b[43m \u001b[49m\u001b[43mparams\u001b[49m\u001b[43m=\u001b[49m\u001b[43m{\u001b[49m\u001b[33;43m\"\u001b[39;49m\u001b[33;43mlimit\u001b[39;49m\u001b[33;43m\"\u001b[39;49m\u001b[43m:\u001b[49m\u001b[43m \u001b[49m\u001b[32;43m10\u001b[39;49m\u001b[43m}\u001b[49m\u001b[43m)\u001b[49m\n\u001b[32m      3\u001b[39m \u001b[38;5;28mprint\u001b[39m(\u001b[33m\"\u001b[39m\u001b[33mTotal:\u001b[39m\u001b[33m\"\u001b[39m, ver.get(\u001b[33m\"\u001b[39m\u001b[33mtotal\u001b[39m\u001b[33m\"\u001b[39m), \u001b[33m\"\u001b[39m\u001b[33mShowing:\u001b[39m\u001b[33m\"\u001b[39m, \u001b[38;5;28mlen\u001b[39m(ver.get(\u001b[33m\"\u001b[39m\u001b[33mobservations\u001b[39m\u001b[33m\"\u001b[39m, [])))\n\u001b[32m      4\u001b[39m \u001b[38;5;28;01mfor\u001b[39;00m o \u001b[38;5;129;01min\u001b[39;00m ver.get(\u001b[33m\"\u001b[39m\u001b[33mobservations\u001b[39m\u001b[33m\"\u001b[39m, [])[:\u001b[32m3\u001b[39m]:\n",
            "\u001b[36mCell\u001b[39m\u001b[36m \u001b[39m\u001b[32mIn[7]\u001b[39m\u001b[32m, line 22\u001b[39m, in \u001b[36mapi_get\u001b[39m\u001b[34m(path, params)\u001b[39m\n\u001b[32m     20\u001b[39m r = requests.get(url, headers=AUTH_HEADERS, params=params \u001b[38;5;129;01mor\u001b[39;00m {}, **REQUESTS_KW)\n\u001b[32m     21\u001b[39m \u001b[38;5;28;01mtry\u001b[39;00m:\n\u001b[32m---> \u001b[39m\u001b[32m22\u001b[39m     \u001b[43mr\u001b[49m\u001b[43m.\u001b[49m\u001b[43mraise_for_status\u001b[49m\u001b[43m(\u001b[49m\u001b[43m)\u001b[49m\n\u001b[32m     23\u001b[39m \u001b[38;5;28;01mexcept\u001b[39;00m \u001b[38;5;167;01mException\u001b[39;00m \u001b[38;5;28;01mas\u001b[39;00m e:\n\u001b[32m     24\u001b[39m     \u001b[38;5;28mprint\u001b[39m(\u001b[33m\"\u001b[39m\u001b[33m❌ GET\u001b[39m\u001b[33m\"\u001b[39m, url)\n",
            "\u001b[36mFile \u001b[39m\u001b[32m~/github/AstrID/.venv/lib/python3.12/site-packages/requests/models.py:1026\u001b[39m, in \u001b[36mResponse.raise_for_status\u001b[39m\u001b[34m(self)\u001b[39m\n\u001b[32m   1021\u001b[39m     http_error_msg = (\n\u001b[32m   1022\u001b[39m         \u001b[33mf\u001b[39m\u001b[33m\"\u001b[39m\u001b[38;5;132;01m{\u001b[39;00m\u001b[38;5;28mself\u001b[39m.status_code\u001b[38;5;132;01m}\u001b[39;00m\u001b[33m Server Error: \u001b[39m\u001b[38;5;132;01m{\u001b[39;00mreason\u001b[38;5;132;01m}\u001b[39;00m\u001b[33m for url: \u001b[39m\u001b[38;5;132;01m{\u001b[39;00m\u001b[38;5;28mself\u001b[39m.url\u001b[38;5;132;01m}\u001b[39;00m\u001b[33m\"\u001b[39m\n\u001b[32m   1023\u001b[39m     )\n\u001b[32m   1025\u001b[39m \u001b[38;5;28;01mif\u001b[39;00m http_error_msg:\n\u001b[32m-> \u001b[39m\u001b[32m1026\u001b[39m     \u001b[38;5;28;01mraise\u001b[39;00m HTTPError(http_error_msg, response=\u001b[38;5;28mself\u001b[39m)\n",
            "\u001b[31mHTTPError\u001b[39m: 403 Client Error: Forbidden for url: http://127.0.0.1:8000/observations/surveys/05e6090c-bac5-4b78-8d7d-ae15a7dde50f/observations?limit=10"
          ]
        }
      ],
      "source": [
        "# 2) Verify observations under survey\n",
        "ver = api_get(f\"/observations/surveys/{SURVEY_ID}/observations\", params={\"limit\": 10})\n",
        "print(\"Total:\", ver.get(\"total\"), \"Showing:\", len(ver.get(\"observations\", [])))\n",
        "for o in ver.get(\"observations\", [])[:3]:\n",
        "    print(o[\"observation_id\"], o[\"ra\"], o[\"dec\"], o[\"status\"])\n"
      ]
    },
    {
      "cell_type": "code",
      "execution_count": null,
      "metadata": {},
      "outputs": [],
      "source": [
        "# Optional: single position ingest (MAST)\n",
        "payload_mast = {\n",
        "    \"survey_id\": SURVEY_ID,\n",
        "    \"ra\": 83.633,\n",
        "    \"dec\": 22.0145,\n",
        "    \"radius\": 0.1,\n",
        "    \"missions\": [\"HST\" if SURVEY_NAME == \"hst\" else SURVEY_NAME.upper()],\n",
        "}\n",
        "\n",
        "print(\"POST /observations/ingest/mast ->\", payload_mast)\n",
        "res_mast = api_post(\"/observations/ingest/mast\", payload_mast)\n",
        "print(\"MAST ingested:\", len(res_mast))\n"
      ]
    },
    {
      "cell_type": "code",
      "execution_count": null,
      "metadata": {},
      "outputs": [],
      "source": [
        "# Optional: reference dataset (SkyView/HiPS cutouts)\n",
        "payload_ref = {\n",
        "    \"survey_id\": SURVEY_ID,\n",
        "    \"ra\": 83.633,\n",
        "    \"dec\": 22.0145,\n",
        "    \"size\": 0.25,\n",
        "    \"pixels\": 512,\n",
        "    \"surveys\": [\"DSS2 Red\"],\n",
        "}\n",
        "\n",
        "print(\"POST /observations/ingest/reference-dataset ->\", payload_ref)\n",
        "try:\n",
        "    res_ref = api_post(\"/observations/ingest/reference-dataset\", payload_ref)\n",
        "    print(\"Reference dataset created:\", list(res_ref.keys()))\n",
        "except Exception as e:\n",
        "    print(\"Reference dataset creation failed (skip):\", e)\n"
      ]
    }
  ],
  "metadata": {
    "kernelspec": {
      "display_name": ".venv",
      "language": "python",
      "name": "python3"
    },
    "language_info": {
      "codemirror_mode": {
        "name": "ipython",
        "version": 3
      },
      "file_extension": ".py",
      "mimetype": "text/x-python",
      "name": "python",
      "nbconvert_exporter": "python",
      "pygments_lexer": "ipython3",
      "version": "3.12.3"
    }
  },
  "nbformat": 4,
  "nbformat_minor": 2
}
